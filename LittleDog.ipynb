{
 "cells": [
  {
   "cell_type": "markdown",
   "metadata": {},
   "source": [
    "# Notebook Setup\n",
    "\n",
    "The following cell will:\n",
    "- on Colab (only), install Drake to `/opt/drake`, install Drake's prerequisites via `apt`, and add pydrake to `sys.path`.  This will take approximately two minutes on the first time it runs (to provision the machine), but should only need to reinstall once every 12 hours.  If you navigate between notebooks using Colab's \"File->Open\" menu, then you can avoid provisioning a separate machine for each notebook.\n",
    "- import packages used throughout the notebook.\n",
    "\n",
    "You will need to rerun this cell if you restart the kernel, but it should be fast (even on Colab) because the machine will already have drake installed."
   ]
  },
  {
   "cell_type": "code",
   "execution_count": null,
   "metadata": {},
   "outputs": [],
   "source": [
    "import importlib\n",
    "import sys\n",
    "from urllib.request import urlretrieve\n",
    "\n",
    "# Install drake (and underactuated).\n",
    "if 'google.colab' in sys.modules and importlib.util.find_spec('underactuated') is None:\n",
    "    urlretrieve(f\"http://underactuated.csail.mit.edu/scripts/setup/setup_underactuated_colab.py\",\n",
    "                \"setup_underactuated_colab.py\")\n",
    "    from setup_underactuated_colab import setup_underactuated\n",
    "    setup_underactuated(underactuated_sha='ffe2b28ed89637889c04405e5d7d2d98be3df5b6', drake_version='0.27.0', drake_build='release')\n",
    "\n",
    "from meshcat.servers.zmqserver import start_zmq_server_as_subprocess\n",
    "proc, zmq_url, web_url = start_zmq_server_as_subprocess(\n",
    "    server_args=['--ngrok_http_tunnel'] if 'google.colab' in sys.modules else [])\n",
    "\n",
    "from pydrake.common import set_log_level\n",
    "set_log_level('off');"
   ]
  },
  {
   "cell_type": "markdown",
   "metadata": {},
   "source": [
    "# Simulation: Standing with PID Control"
   ]
  },
  {
   "cell_type": "code",
   "execution_count": null,
   "metadata": {},
   "outputs": [],
   "source": [
    "import numpy as np\n",
    "from pydrake.all import AddMultibodyPlantSceneGraph, DiagramBuilder, Parser, ConnectMeshcatVisualizer, RigidTransform, Simulator, PidController\n",
    "\n",
    "def set_home(plant, context):\n",
    "    hip_roll = .1;\n",
    "    hip_pitch = 1;\n",
    "    knee = 1.55;\n",
    "    plant.GetJointByName(\"front_right_hip_roll\").set_angle(context, -hip_roll)\n",
    "    plant.GetJointByName(\"front_right_hip_pitch\").set_angle(context, hip_pitch)\n",
    "    plant.GetJointByName(\"front_right_knee\").set_angle(context, -knee)\n",
    "    plant.GetJointByName(\"front_left_hip_roll\").set_angle(context, hip_roll)\n",
    "    plant.GetJointByName(\"front_left_hip_pitch\").set_angle(context, hip_pitch)\n",
    "    plant.GetJointByName(\"front_left_knee\").set_angle(context, -knee)\n",
    "    plant.GetJointByName(\"back_right_hip_roll\").set_angle(context, -hip_roll)\n",
    "    plant.GetJointByName(\"back_right_hip_pitch\").set_angle(context, -hip_pitch)\n",
    "    plant.GetJointByName(\"back_right_knee\").set_angle(context, knee)\n",
    "    plant.GetJointByName(\"back_left_hip_roll\").set_angle(context, hip_roll)\n",
    "    plant.GetJointByName(\"back_left_hip_pitch\").set_angle(context, -hip_pitch)\n",
    "    plant.GetJointByName(\"back_left_knee\").set_angle(context, knee)\n",
    "    plant.SetFreeBodyPose(context, plant.GetBodyByName(\"body\"), RigidTransform([0, 0, 0.146]))\n",
    "\n",
    "def run_pid_control():\n",
    "    builder = DiagramBuilder()\n",
    "    plant, scene_graph = AddMultibodyPlantSceneGraph(builder, 1e-4)\n",
    "    parser = Parser(plant)\n",
    "    parser.AddModelFromFile('LittleDog.urdf')\n",
    "    parser.AddModelFromFile('ground.urdf')\n",
    "    plant.Finalize()\n",
    "\n",
    "    # Add a PD Controller\n",
    "    kp = 2.0*np.ones(12)\n",
    "    ki = 0.01*np.ones(12)\n",
    "    kd = 0.5*np.ones(12)\n",
    "    kd[-4:] = .16 # use lower gain for the knee joints\n",
    "    # Select the joint states (and ignore the floating-base states)\n",
    "    S = np.zeros((24, 37))\n",
    "    S[:12, 7:19] = np.eye(12)\n",
    "    S[12:, 25:] = np.eye(12)\n",
    "    control = builder.AddSystem(PidController(\n",
    "        kp=kp, ki=ki, kd=kd, \n",
    "        state_projection=S, \n",
    "        output_projection=plant.MakeActuationMatrix()[6:,:].T))\n",
    "\n",
    "    builder.Connect(plant.get_state_output_port(), control.get_input_port_estimated_state())\n",
    "    builder.Connect(control.get_output_port(), plant.get_actuation_input_port())\n",
    "\n",
    "    visualizer = ConnectMeshcatVisualizer(builder, scene_graph=scene_graph, zmq_url=zmq_url)\n",
    "\n",
    "    diagram = builder.Build()\n",
    "    simulator = Simulator(diagram)\n",
    "    context = simulator.get_mutable_context()\n",
    "    plant_context = plant.GetMyContextFromRoot(context)\n",
    "    set_home(plant, plant_context)\n",
    "    x0 = S @ plant.get_state_output_port().Eval(plant_context)\n",
    "    control.get_input_port_desired_state().FixValue(control.GetMyContextFromRoot(context), x0)\n",
    "\n",
    "    simulator.set_target_realtime_rate(1.0)\n",
    "    simulator.AdvanceTo(2.0)\n",
    "\n",
    "run_pid_control()"
   ]
  },
  {
   "cell_type": "code",
   "execution_count": null,
   "metadata": {},
   "outputs": [],
   "source": []
  }
 ],
 "metadata": {
  "kernelspec": {
   "display_name": "Python 3",
   "language": "python",
   "name": "python3"
  },
  "language_info": {
   "codemirror_mode": {
    "name": "ipython",
    "version": 3
   },
   "file_extension": ".py",
   "mimetype": "text/x-python",
   "name": "python",
   "nbconvert_exporter": "python",
   "pygments_lexer": "ipython3",
   "version": "3.9.2"
  }
 },
 "nbformat": 4,
 "nbformat_minor": 2
}